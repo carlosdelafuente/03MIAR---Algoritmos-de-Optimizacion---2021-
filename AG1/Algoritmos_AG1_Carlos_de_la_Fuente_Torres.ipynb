{
  "nbformat": 4,
  "nbformat_minor": 0,
  "metadata": {
    "colab": {
      "name": "Algoritmos AG1 - Carlos de la Fuente Torres.ipynb",
      "provenance": [],
      "collapsed_sections": [],
      "include_colab_link": true
    },
    "kernelspec": {
      "name": "python3",
      "display_name": "Python 3"
    },
    "language_info": {
      "name": "python"
    }
  },
  "cells": [
    {
      "cell_type": "markdown",
      "metadata": {
        "id": "view-in-github",
        "colab_type": "text"
      },
      "source": [
        "<a href=\"https://colab.research.google.com/github/carlosdelafuente/03MIAR---Algoritmos-de-Optimizacion---2021-/blob/main/AG1/Algoritmos_AG1_Carlos_de_la_Fuente_Torres.ipynb\" target=\"_parent\"><img src=\"https://colab.research.google.com/assets/colab-badge.svg\" alt=\"Open In Colab\"/></a>"
      ]
    },
    {
      "cell_type": "markdown",
      "metadata": {
        "id": "GG2D6vLdYwwy"
      },
      "source": [
        "Actividad Guiada 1 de Algoritmos de Optimizacion\n",
        "\n",
        "Nombre: Carlos de la Fuente Torres\n",
        "\n",
        "Url: https://colab.research.google.com/drive/1J5GoBjtUub8q6VX4sJD4ckpcpa8Xqo6g?usp=sharing\n",
        "\n",
        "Github: https://github.com/carlosdelafuente/03MIAR---Algoritmos-de-Optimizacion---2021-"
      ]
    },
    {
      "cell_type": "code",
      "metadata": {
        "id": "rTiqLuX2ZKuL",
        "colab": {
          "base_uri": "https://localhost:8080/"
        },
        "outputId": "2e9e121e-74de-4812-cd7c-66a4a05a7db0"
      },
      "source": [
        "#Torres de Hanoi - Divide y venceras\n",
        "################################################################################\n",
        "\n",
        "\n",
        "################################################################\n",
        "def Torres_Hanoi(N, desde, hasta):\n",
        "  #N - Nº de fichas\n",
        "  #desde - torre inicial\n",
        "  #hasta - torre fina\n",
        "  if N==1 :\n",
        "    print(\"Lleva la ficha desde \" + str(desde) + \" hasta \" + str(hasta))\n",
        "\n",
        "  elif N>1:\n",
        "    Torres_Hanoi(N-1, desde, 6-desde-hasta)\n",
        "    print(\"Lleva la ficha desde \" + str(desde) + \" hasta \" + str(hasta))\n",
        "    Torres_Hanoi(N-1, 6-desde-hasta,  hasta)\n",
        "\n",
        "Torres_Hanoi(2, 1, 3)\n",
        "################################################################"
      ],
      "execution_count": null,
      "outputs": [
        {
          "output_type": "stream",
          "name": "stdout",
          "text": [
            "Lleva la ficha desde 1 hasta 2\n",
            "Lleva la ficha desde 1 hasta 3\n",
            "Lleva la ficha desde 2 hasta 3\n"
          ]
        }
      ]
    },
    {
      "cell_type": "code",
      "metadata": {
        "id": "YwBudj2hYoMR",
        "colab": {
          "base_uri": "https://localhost:8080/"
        },
        "outputId": "2b41e346-f436-4b48-be16-ae97a6e7fa60"
      },
      "source": [
        "#Cambio de monedas - Técnica voraz\n",
        "################################################################################\n",
        "SISTEMA = [100, 50, 20, 5 , 2, 1]\n",
        "################################################################\n",
        "def cambio_monedas(CANTIDAD,SISTEMA):\n",
        "#....\n",
        "  SOLUCION = [0]*len(SISTEMA)\n",
        "  ValorAcumulado = 0\n",
        "\n",
        "  for i,valor in enumerate(SISTEMA):\n",
        "    monedas = (CANTIDAD-ValorAcumulado)//valor\n",
        "    SOLUCION[i] = monedas\n",
        "    ValorAcumulado = ValorAcumulado + monedas*valor\n",
        "\n",
        "    if CANTIDAD == ValorAcumulado:\n",
        "      return SOLUCION\n",
        "\n",
        "  print(\"No es posible encontrar solucion\") \n",
        "cambio_monedas(99, SISTEMA)\n",
        "\n",
        "    \n",
        "################################################################"
      ],
      "execution_count": null,
      "outputs": [
        {
          "output_type": "execute_result",
          "data": {
            "text/plain": [
              "[0, 1, 2, 1, 2, 0]"
            ]
          },
          "metadata": {},
          "execution_count": 2
        }
      ]
    },
    {
      "cell_type": "code",
      "metadata": {
        "id": "H4Iwt2XRZTFr",
        "colab": {
          "base_uri": "https://localhost:8080/"
        },
        "outputId": "b1c61eb8-364e-4b6d-91ac-3da62a6f9776"
      },
      "source": [
        "#N Reinas - Vuelta Atrás()\n",
        "################################################################################\n",
        "\n",
        "#Verifica que en la solución parcial no hay amenzas entre reinas\n",
        "################################################################\n",
        "def es_prometedora(SOLUCION,etapa):\n",
        "################################################################\n",
        "  #print(SOLUCION)\n",
        "  #Si la solución tiene dos valores iguales no es valida => Dos reinas en la misma fila\n",
        "  for i in range(etapa+1):\n",
        "    #print(\"El valor \" + str(SOLUCION[i]) + \" está \" +  str(SOLUCION.count(SOLUCION[i])) + \" veces\")\n",
        "    if SOLUCION.count(SOLUCION[i]) > 1:       \n",
        "      return False\n",
        "  \n",
        "    #Verifica las diagonales\n",
        "    for j in range(i+1, etapa +1 ):\n",
        "      #print(\"Comprobando diagonal de \" + str(i) + \" y \" + str(j))\n",
        "      if abs(i-j) == abs(SOLUCION[i]-SOLUCION[j]) : return False\n",
        "  return True\n",
        "\n",
        "#Traduce la solución al tablero\n",
        "################################################################\n",
        "def escribe_solucion(S):\n",
        "################################################################\n",
        "  n = len(S)\n",
        "  for x in range(n):\n",
        "    print(\"\")\n",
        "    for i in range(n):\n",
        "      if S[i] == x+1:\n",
        "        print(\" X \" , end=\"\")\n",
        "      else:\n",
        "        print(\" - \", end=\"\")\n",
        "\n",
        "\n",
        "\n",
        "\n",
        "#Proceso principal de N-Reinas\n",
        "################################################################\n",
        "def reinas(N, solucion=[],etapa=0): \n",
        "################################################################\n",
        "### ....\n",
        "  \n",
        "  if len(solucion) == 0:         # [0,0,0...]\n",
        "    solucion = [0 for i in range(N) ]\n",
        "  \n",
        "  for i in range(1, N+1):\n",
        "    solucion[etapa] = i\n",
        "    if es_prometedora(solucion, etapa):\n",
        "      if etapa == N-1:\n",
        "        print(solucion)\n",
        "      else:  \n",
        "        reinas(N, solucion, etapa+1)\n",
        "    else:\n",
        "      None\n",
        "  \n",
        "  solucion[etapa] = 0\n",
        "  return \n",
        "\n",
        "reinas(5,solucion=[],etapa=0)"
      ],
      "execution_count": null,
      "outputs": [
        {
          "output_type": "stream",
          "name": "stdout",
          "text": [
            "[1, 3, 5, 2, 4]\n",
            "[1, 4, 2, 5, 3]\n",
            "[2, 4, 1, 3, 5]\n",
            "[2, 5, 3, 1, 4]\n",
            "[3, 1, 4, 2, 5]\n",
            "[3, 5, 2, 4, 1]\n",
            "[4, 1, 3, 5, 2]\n",
            "[4, 2, 5, 3, 1]\n",
            "[5, 2, 4, 1, 3]\n",
            "[5, 3, 1, 4, 2]\n"
          ]
        }
      ]
    },
    {
      "cell_type": "code",
      "source": [
        "escribe_solucion([4, 2, 5, 3, 1])"
      ],
      "metadata": {
        "colab": {
          "base_uri": "https://localhost:8080/"
        },
        "id": "tWUT3_1bLfvd",
        "outputId": "6f329700-e122-422a-ba85-49dc9f855604"
      },
      "execution_count": null,
      "outputs": [
        {
          "output_type": "stream",
          "name": "stdout",
          "text": [
            "\n",
            " -  -  -  -  X \n",
            " -  X  -  -  - \n",
            " -  -  -  X  - \n",
            " X  -  -  -  - \n",
            " -  -  X  -  - "
          ]
        }
      ]
    },
    {
      "cell_type": "code",
      "source": [
        ""
      ],
      "metadata": {
        "id": "MmiqFCNmQ4U-"
      },
      "execution_count": null,
      "outputs": []
    },
    {
      "cell_type": "code",
      "source": [
        ""
      ],
      "metadata": {
        "id": "GkHMgXuvdbHW"
      },
      "execution_count": null,
      "outputs": []
    },
    {
      "cell_type": "code",
      "source": [
        ""
      ],
      "metadata": {
        "id": "fZ8dDexsQ44S"
      },
      "execution_count": null,
      "outputs": []
    },
    {
      "cell_type": "markdown",
      "source": [
        "## Práctica individual\n",
        "\n",
        "• Dado un conjunto de puntos se trata de encontrar los dos puntos más cercanos\n",
        "\n",
        "• Guía para aprendizaje:\n"
      ],
      "metadata": {
        "id": "6QjgFG2lQ7Xf"
      }
    },
    {
      "cell_type": "markdown",
      "source": [
        "#### 1)Suponer en 1D, o sea, una lista de números: [3403, 4537, 9089, 9746, 7259, ….\n"
      ],
      "metadata": {
        "id": "xuEAOdaPQ5Kl"
      }
    },
    {
      "cell_type": "code",
      "source": [
        "import random\n",
        "lista1D = [random.randint(0,1000) for x in range(10)]"
      ],
      "metadata": {
        "id": "48jp62QMPecp"
      },
      "execution_count": null,
      "outputs": []
    },
    {
      "cell_type": "markdown",
      "source": [
        "#### 2) Primer intento: Fuerza bruta\n"
      ],
      "metadata": {
        "id": "NWrexL7FRRSZ"
      }
    },
    {
      "cell_type": "code",
      "source": [
        "def puntosMasCercanos1D_fuerza_bruta(lista_puntos):\n",
        "  min_dis = abs(lista_puntos[0]-lista_puntos[1])\n",
        "  puntos = [lista_puntos[0],lista_puntos[1]]\n",
        "\n",
        "  for i in range(len(lista_puntos)):\n",
        "    for j in range(i+1, len(lista_puntos)):\n",
        "      dist = abs(lista_puntos[i]-lista_puntos[j])\n",
        "      if dist < min_dis:\n",
        "        min_dis = dist\n",
        "        puntos = [lista_puntos[i],lista_puntos[j]]\n",
        "\n",
        "  return puntos"
      ],
      "metadata": {
        "id": "gnNkvkEmOj64"
      },
      "execution_count": null,
      "outputs": []
    },
    {
      "cell_type": "code",
      "source": [
        "print(puntosMasCercanos1D_fuerza_bruta(lista1D))"
      ],
      "metadata": {
        "colab": {
          "base_uri": "https://localhost:8080/"
        },
        "id": "TzIG6u7ASV_G",
        "outputId": "6e7dab0f-de02-4cc6-ce64-ddee3ac806c8"
      },
      "execution_count": null,
      "outputs": [
        {
          "output_type": "stream",
          "name": "stdout",
          "text": [
            "[769, 768]\n"
          ]
        }
      ]
    },
    {
      "cell_type": "markdown",
      "source": [
        "#### 3) Calcular la complejidad. ¿Se puede mejorar?\n"
      ],
      "metadata": {
        "id": "DlwatksJRVtE"
      }
    },
    {
      "cell_type": "markdown",
      "source": [
        "Por fuerza bruta tiene una complejidad de **O(n)** donde **n** es el tamaó de la lista. Si que se puede mejorar, por ejemplo, aplicando divide y vencerás."
      ],
      "metadata": {
        "id": "k5-a_-4HQR-m"
      }
    },
    {
      "cell_type": "markdown",
      "source": [
        "#### 4) Segundo intento. Aplicar Divide y Vencerás\n"
      ],
      "metadata": {
        "id": "otUpXR3IRghf"
      }
    },
    {
      "cell_type": "code",
      "source": [
        "from math import inf\n",
        "def puntosMasCercanos1D_divide_y_venceras(lista_puntos, current_min_dis):\n",
        "\n",
        "  if len(lista_puntos) == 1:\n",
        "    return [], inf\n",
        "\n",
        "  elif len(lista_puntos) == 2:\n",
        "    return lista_puntos, abs(lista_puntos[0]-lista_puntos[1])\n",
        "  \n",
        "  else:\n",
        "    punto_medio = int(len(lista_puntos)/2)\n",
        "    dist_pivotes = abs(lista_puntos[punto_medio]-lista_puntos[punto_medio+1])\n",
        "    prox_izq, dist_izq = puntosMasCercanos1D_divide_y_venceras(lista_puntos[:punto_medio], \n",
        "                                                               current_min_dis)\n",
        "    prox_der, dist_der = puntosMasCercanos1D_divide_y_venceras(lista_puntos[punto_medio+1:len(lista_puntos)], \n",
        "                                                               current_min_dis)\n",
        "    \n",
        "    current_min_dis = min(dist_pivotes, dist_izq, dist_der, current_min_dis)\n",
        "\n",
        "    if current_min_dis == dist_pivotes:\n",
        "      return [lista_puntos[punto_medio],lista_puntos[punto_medio+1]], dist_pivotes\n",
        "    elif current_min_dis == dist_izq:\n",
        "      return prox_izq, dist_izq\n",
        "    elif current_min_dis == dist_der:\n",
        "      return prox_der, dist_der"
      ],
      "metadata": {
        "id": "jH2fUnRESihP"
      },
      "execution_count": null,
      "outputs": []
    },
    {
      "cell_type": "code",
      "source": [
        "print(puntosMasCercanos1D_divide_y_venceras(lista1D,inf)[0])"
      ],
      "metadata": {
        "colab": {
          "base_uri": "https://localhost:8080/"
        },
        "id": "hTQt53rYVefD",
        "outputId": "28831057-c792-4988-8dae-89e7774bfcee"
      },
      "execution_count": null,
      "outputs": [
        {
          "output_type": "stream",
          "name": "stdout",
          "text": [
            "[769, 816]\n"
          ]
        }
      ]
    },
    {
      "cell_type": "markdown",
      "source": [
        "#### 5) Calcular la complejidad. ¿Se puede mejorar?\n"
      ],
      "metadata": {
        "id": "tmvZBJKmRlyH"
      }
    },
    {
      "cell_type": "markdown",
      "source": [
        "La complejidad media del algoritmo de búsqueda divide y vencerás es de **O(nlog(n))**. Si que se puede mejorar, por ejemplo con **quicksort**. (Auque computacionalmente también tiene un coste medio de O(nlog(n)) en la práctica tiene mejor desempeño)."
      ],
      "metadata": {
        "id": "XOeEf_VVWYwy"
      }
    },
    {
      "cell_type": "markdown",
      "source": [
        "#### 6) Extender el algoritmo a 2D: [(1122, 6175), (135, 4076), (7296, 2741)…\n"
      ],
      "metadata": {
        "id": "zvcSuBjKRl1d"
      }
    },
    {
      "cell_type": "code",
      "source": [
        "lista2D = [(random.randint(0,1000), random.randint(0,1000)) for x in range(1000)]"
      ],
      "metadata": {
        "id": "GAVoUHNGWyhy"
      },
      "execution_count": null,
      "outputs": []
    },
    {
      "cell_type": "code",
      "source": [
        "def dist2D(p1,p2):\n",
        "  return sqrt((p2[0] - p1[0])**2 + (p2[1] - p1[1])**2)\n"
      ],
      "metadata": {
        "id": "kXNGqDTcYSTZ"
      },
      "execution_count": null,
      "outputs": []
    },
    {
      "cell_type": "code",
      "source": [
        "from math import sqrt\n",
        "def puntosMasCercanos2D_divide_y_venceras(lista_puntos, current_min_dis):\n",
        "  if len(lista_puntos) == 1:\n",
        "    return [], inf\n",
        "\n",
        "  elif len(lista_puntos) == 2:\n",
        "    return lista_puntos, dist2D(lista_puntos[0], lista_puntos[1])\n",
        "  \n",
        "  else:\n",
        "    punto_medio = int(len(lista_puntos)/2)\n",
        "    dist_pivotes = dist2D(lista_puntos[punto_medio], lista_puntos[punto_medio+1])\n",
        "    prox_izq, dist_izq = puntosMasCercanos2D_divide_y_venceras(lista_puntos[:punto_medio], \n",
        "                                                               current_min_dis)\n",
        "    prox_der, dist_der = puntosMasCercanos2D_divide_y_venceras(lista_puntos[punto_medio+1:len(lista_puntos)], \n",
        "                                                               current_min_dis)\n",
        "    \n",
        "    current_min_dis = min(dist_pivotes, dist_izq, dist_der, current_min_dis)\n",
        "\n",
        "    if current_min_dis == dist_pivotes:\n",
        "      return [lista_puntos[punto_medio],lista_puntos[punto_medio+1]], dist_pivotes\n",
        "    elif current_min_dis == dist_izq:\n",
        "      return prox_izq, dist_izq\n",
        "    elif current_min_dis == dist_der:\n",
        "      return prox_der, dist_der"
      ],
      "metadata": {
        "id": "KzmmpqHgZVk9"
      },
      "execution_count": null,
      "outputs": []
    },
    {
      "cell_type": "code",
      "source": [
        "print(puntosMasCercanos2D_divide_y_venceras(lista2D,inf)[0])"
      ],
      "metadata": {
        "colab": {
          "base_uri": "https://localhost:8080/"
        },
        "id": "Lv-34Z5NZhlQ",
        "outputId": "021952ab-50b0-476f-d5ed-93f52699f47a"
      },
      "execution_count": null,
      "outputs": [
        {
          "output_type": "stream",
          "name": "stdout",
          "text": [
            "[(384, 257), (363, 249)]\n"
          ]
        }
      ]
    },
    {
      "cell_type": "markdown",
      "source": [
        "#### 7) Extender el algoritmo a 3D"
      ],
      "metadata": {
        "id": "tGc-5rOWRl4E"
      }
    },
    {
      "cell_type": "code",
      "source": [
        "lista3D = [(random.randint(0,1000), random.randint(0,1000), random.randint(0,1000)) \n",
        "            for x in range(1000)]"
      ],
      "metadata": {
        "id": "_Myo0kazbImt"
      },
      "execution_count": null,
      "outputs": []
    },
    {
      "cell_type": "code",
      "source": [
        "def dist3D(p1,p2):\n",
        "  return sqrt((p2[0] - p1[0])**2 + (p2[1] - p1[1])**2 + (p2[2] - p1[2])**2)  \n"
      ],
      "metadata": {
        "id": "G9OWRoeKa7uY"
      },
      "execution_count": null,
      "outputs": []
    },
    {
      "cell_type": "code",
      "source": [
        "from math import sqrt\n",
        "def puntosMasCercanos3D_divide_y_venceras(lista_puntos, current_min_dis):\n",
        "  if len(lista_puntos) == 1:\n",
        "    return [], inf\n",
        "\n",
        "  elif len(lista_puntos) == 2:\n",
        "    return lista_puntos, dist2D(lista_puntos[0], lista_puntos[1])\n",
        "  \n",
        "  else:\n",
        "    punto_medio = int(len(lista_puntos)/2)\n",
        "    dist_pivotes = dist2D(lista_puntos[punto_medio], lista_puntos[punto_medio+1])\n",
        "    prox_izq, dist_izq = puntosMasCercanos3D_divide_y_venceras(lista_puntos[:punto_medio], \n",
        "                                                               current_min_dis)\n",
        "    prox_der, dist_der = puntosMasCercanos3D_divide_y_venceras(lista_puntos[punto_medio+1:len(lista_puntos)], \n",
        "                                                               current_min_dis)\n",
        "    \n",
        "    current_min_dis = min(dist_pivotes, dist_izq, dist_der, current_min_dis)\n",
        "\n",
        "    if current_min_dis == dist_pivotes:\n",
        "      return [lista_puntos[punto_medio],lista_puntos[punto_medio+1]], dist_pivotes\n",
        "    elif current_min_dis == dist_izq:\n",
        "      return prox_izq, dist_izq\n",
        "    elif current_min_dis == dist_der:\n",
        "      return prox_der, dist_der"
      ],
      "metadata": {
        "id": "k9NHr0lYbBpM"
      },
      "execution_count": null,
      "outputs": []
    },
    {
      "cell_type": "code",
      "source": [
        "print(puntosMasCercanos3D_divide_y_venceras(lista3D,inf)[0])"
      ],
      "metadata": {
        "colab": {
          "base_uri": "https://localhost:8080/"
        },
        "id": "JP1wuAxzbP9F",
        "outputId": "cc9d0305-6235-49bb-86ff-ea2fde7ab82d"
      },
      "execution_count": null,
      "outputs": [
        {
          "output_type": "stream",
          "name": "stdout",
          "text": [
            "[(381, 381, 683), (365, 377, 47)]\n"
          ]
        }
      ]
    }
  ]
}