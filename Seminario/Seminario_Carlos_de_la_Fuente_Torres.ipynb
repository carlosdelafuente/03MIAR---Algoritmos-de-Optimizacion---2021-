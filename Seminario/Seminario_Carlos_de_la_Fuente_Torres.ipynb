{
  "nbformat": 4,
  "nbformat_minor": 0,
  "metadata": {
    "colab": {
      "name": "Seminario - Carlos de la Fuente Torres.ipynb",
      "provenance": [],
      "collapsed_sections": [],
      "include_colab_link": true
    },
    "kernelspec": {
      "name": "python3",
      "display_name": "Python 3"
    }
  },
  "cells": [
    {
      "cell_type": "markdown",
      "metadata": {
        "id": "view-in-github",
        "colab_type": "text"
      },
      "source": [
        "<a href=\"https://colab.research.google.com/github/carlosdelafuente/03MIAR---Algoritmos-de-Optimizacion---2021-/blob/main/Seminario/Seminario_Carlos_de_la_Fuente_Torres.ipynb\" target=\"_parent\"><img src=\"https://colab.research.google.com/assets/colab-badge.svg\" alt=\"Open In Colab\"/></a>"
      ]
    },
    {
      "cell_type": "markdown",
      "metadata": {
        "id": "hVbXYX-RfPWh"
      },
      "source": [
        "# Algoritmos de optimización - Seminario<br>\n",
        "Nombre y Apellidos: Carlos de la Fuente Torres   <br>\n",
        "Url: https://github.com/.../03MAIR---Algoritmos-de-Optimizacion---2019/tree/master/SEMINARIO<br>\n",
        "Problema:\n",
        "> **3. Combinar cifras y operaciones**\n",
        "\n",
        "Descripción del problema:\n",
        "\n",
        "• El problema consiste en analizar el siguiente problema y diseñar un algoritmo que lo resuelva.\n",
        "\n",
        "• Disponemos de las 9 cifras del 1 al 9 (excluimos el cero) y de los 4 signos básicos de las\n",
        "operaciones fundamentales: suma(+), resta(-), multiplicación(*) y división(/).\n",
        "\n",
        "• Debemos combinarlos alternativamente sin repetir ninguno de ellos para obtener una cantidad\n",
        "dada. Un ejemplo sería para obtener el 4:\n",
        "\n",
        ">**4+2-6/3*1 = 4**\n",
        "\n",
        "\n",
        "\n",
        "\n",
        "\n",
        "                                        "
      ]
    },
    {
      "cell_type": "markdown",
      "metadata": {
        "id": "3_-exlrTgLd-"
      },
      "source": [
        "##(*)¿Cuántas posibilidades hay sin tener en cuenta las restricciones?<br>\n",
        "\n",
        "\n",
        "\n",
        "##¿Cuántas posibilidades hay teniendo en cuenta todas las restricciones.\n",
        "\n",
        "\n"
      ]
    },
    {
      "cell_type": "markdown",
      "source": [
        "#### Posibilidades sin tener en cuenta las restricciones:"
      ],
      "metadata": {
        "id": "H-mTv2m2Okt5"
      }
    },
    {
      "cell_type": "markdown",
      "source": [
        "La restricción que tenemos es **no repetir ningún número y ningún signo**, por ello, si eliminamos todas las restricciones podemos repetir **TODOS** los números y **TODOS** los signos:\n",
        "> Esto nos deja con 9^5 posibilidades para los números y 4^4 posibilidades para los signos, lo que nos hace un total de **(9^5)*(4^4) = 15116544 posibilidades.**\n"
      ],
      "metadata": {
        "id": "KBPI9OcQEpb3"
      }
    },
    {
      "cell_type": "markdown",
      "source": [
        "#### Posibilidades teniendo en cuenta las restricciones:"
      ],
      "metadata": {
        "id": "RvsFf86nOpJ-"
      }
    },
    {
      "cell_type": "markdown",
      "source": [
        "Si tenemos en cuenta las restricciones anteriores (no repetir ni números ni signos) nos encontramos con el siguiente espacio de posibilidades:\n",
        "\n",
        "Al no poder repetir números y signos la **condición** principal de nuestra solución es que una vez elegido un número o un signo en la siguiente elección tenemos una posibilidad menos. ¿En qué se traduce esto?:\n",
        "\n",
        "> En cuento a los **números**, si partimos de 9 posibilidades en la primera posición y de una posibilidad menos cada vez que avancemos,sabiendo que solamente se cogen 5 números, las posibilidades son 9! quitando las 4 últimas posibilidades, lo que  matemáticamente se traduce en: **9!/4!**\n",
        "\n",
        "> En el caso de los **signos**, al tener que 4 signos estamos ante **4!** posibilidades.\n",
        "\n",
        "Por tanto, si unimos ambas probabilidades, nos encontramos con un total de (9!/4!)*4! = 9! posibilidades.\n",
        "\n",
        "**9! = 362880 posibilidades**"
      ],
      "metadata": {
        "id": "z7Y81GKkOpMW"
      }
    },
    {
      "cell_type": "markdown",
      "metadata": {
        "id": "dzynfVJahHoY"
      },
      "source": [
        "## Modelo para el espacio de soluciones<br>\n",
        "\n",
        "\n",
        "> "
      ]
    },
    {
      "cell_type": "markdown",
      "source": [
        "### (*) ¿Cual es la estructura de datos que mejor se adapta al problema? Argumentalo.(Es posible que hayas elegido una al principio y veas la necesidad de cambiar, arguentalo)"
      ],
      "metadata": {
        "id": "ZVE2NXq3_-As"
      }
    },
    {
      "cell_type": "markdown",
      "source": [
        "Aunque a priori planteé el problema con una única lista como estructura de datos para almacenar tanto número como signos me dí cuenta de que era poco manejable al tratar las restricciones de números y signos a la vez. Por ello, tras plantearlo mejor, **me decante por almacenar los números en una lista y los signos en otra y a su vez ordenados de menor a mayor**. De este modo el control sobre las variables es mucho más sencillo y mucho más fácil de programar.\n",
        "\n",
        "Sabiendo que se deben intercalar los signos (en posiciones pares) y los números (en posiciones impares) el problema se simplifica mucho para cualquier tipo de planteamiento ya que eliminamos comprobaciones mientras construimos la soluciión y solo debemos chequear la solución una vez.\n",
        "\n",
        "Ordenarlos de menor a mayor supone una ventaja principal en cuento al planteamiento. Si tenemos los números y signos ordenados de menor a mayor, siendo el 1 y '/' los menores y el 9 y '*' los mayores, tenemos una estructura de datos definida que en el caso de un algoritmo de fuerza bruta no es una implementación crucial pero si en el caso de otras implemetanciones.\n",
        "> 1) Algoritmos de búsqueda: Para algoritmos BFS, DFS o de ramificación y poda para poder ir siempre del menor al mayor o definir bien la cota inferior o superior.\n",
        "\n",
        "> 2) Algoritmos Heurísticos/estocásticos: Para ponderar con mayor o menor probabilidad los elementos de la lista dependiendo de las reglas establacidas. (Por ejemplo, dependiendo de lo lejos o cerca que este la solución actual de la solución óptima)."
      ],
      "metadata": {
        "id": "0awvflIVatpE"
      }
    },
    {
      "cell_type": "code",
      "metadata": {
        "id": "38c-7-ejhJmA"
      },
      "source": [
        "numeros = ['1','2','3','4','5','6','7','8','9']\n",
        "signos  = ['/', '-', '+', '*']"
      ],
      "execution_count": null,
      "outputs": []
    },
    {
      "cell_type": "markdown",
      "metadata": {
        "id": "7Z9U2W7bi-XS"
      },
      "source": [
        "##Según el modelo para el espacio de soluciones<br>\n"
      ]
    },
    {
      "cell_type": "markdown",
      "source": [
        "###(*)¿Cual es la función objetivo?"
      ],
      "metadata": {
        "id": "y9wVADCEfMgL"
      }
    },
    {
      "cell_type": "markdown",
      "source": [
        "En este problema en concreto buscamos una solución específica, por tanto, **no tenemos una función objetivo** ni la posibilidade de cuantificar si nuestra solución se aproxima o no a la solución óptima. En este problema en concreto se debe encontrar la solución al problema. El cual puede tener o no solución con las restricciones que tenemos y podemos llegar o no a la solución dependiendo del algoritmo que se utilice."
      ],
      "metadata": {
        "id": "piEmIuCYfSvV"
      }
    },
    {
      "cell_type": "markdown",
      "source": [
        "###(*)¿Es un problema de maximización o minimización?"
      ],
      "metadata": {
        "id": "3XK4laO9fMiW"
      }
    },
    {
      "cell_type": "markdown",
      "source": [
        "No se trata **ni de un problema de maximización ni de un problema de minimización**. Para llegar a la solución no debemos ni maximizar ni minimizar una función objetivo ya que tenemos una solución dada. Debemos de ser capaces de dar o no dar la solución. O hay solución o no hay solución."
      ],
      "metadata": {
        "id": "Yxsu3dodg4Mo"
      }
    },
    {
      "cell_type": "markdown",
      "metadata": {
        "id": "rlnTYgY1j6I2"
      },
      "source": [
        "##Diseña un algoritmo para resolver el problema por fuerza bruta"
      ]
    },
    {
      "cell_type": "markdown",
      "source": [
        "Al tratarse de un algoritmo de fuerza bruta vamos a explorar todas las soluciones posibles dadas las restricciones del problema:\n",
        "\n",
        "Para ello creamos una lista con todas las posibles combinaciones de números y tolas las posibles combinaciones de signos. Donde debemos recordar que en el caso de números tenemos un total de 9!/4! = 15120 posibilidades y en el caso de los signos tenemos un total de 4! = 24 posibilidades:"
      ],
      "metadata": {
        "id": "az-JH_LZhgjg"
      }
    },
    {
      "cell_type": "code",
      "metadata": {
        "id": "CJb5sQ0qkENy",
        "colab": {
          "base_uri": "https://localhost:8080/"
        },
        "outputId": "0f1a5061-bc06-4d05-fa0b-84eb93773296"
      },
      "source": [
        "from itertools import permutations\n",
        "\n",
        "# creamos una lista con todas las posibles combinaciones de números, recordando que\n",
        "combinaciones_numeros = list(permutations(numeros, 5))\n",
        "print(\"Total combinaciones números: \",len(combinaciones_numeros))\n",
        "combinaciones_signos = list(permutations(signos, 4))\n",
        "print(\"Total combinaciones signos : \",len(combinaciones_signos))"
      ],
      "execution_count": null,
      "outputs": [
        {
          "output_type": "stream",
          "name": "stdout",
          "text": [
            "Total combinaciones números:  15120\n",
            "Total combinaciones signos :  24\n"
          ]
        }
      ]
    },
    {
      "cell_type": "code",
      "source": [
        "def combinar_numeros_signos(nums, sigs):\n",
        "  expression = ''\n",
        "  for n, s in zip(range(len(nums)-1), range(len(sigs))):\n",
        "    expression = expression + nums[n]\n",
        "    expression = expression + sigs[s]\n",
        "  expression = expression + nums[-1]\n",
        "  return expression"
      ],
      "metadata": {
        "id": "zkCl9-A6mqnj"
      },
      "execution_count": null,
      "outputs": []
    },
    {
      "cell_type": "code",
      "source": [
        "def find_expression_fuerza_bruta(comb_num, comb_sig, value):\n",
        "  for current_nums in comb_num:\n",
        "    for current_sigs in comb_sig:\n",
        "\n",
        "      expression = combinar_numeros_signos(current_nums, current_sigs)\n",
        "      if eval(expression) == value: return expression\n",
        "      \n",
        "  return None"
      ],
      "metadata": {
        "id": "KpFFhzbmlOu8"
      },
      "execution_count": null,
      "outputs": []
    },
    {
      "cell_type": "code",
      "source": [
        "value = 4\n",
        "expression = find_expression_fuerza_bruta(combinaciones_numeros, combinaciones_signos, value)\n",
        "if expression is not None:\n",
        "  print(\"La expresión\", expression, \"obtiene como resultado en número\", value, \" :)\")\n",
        "else:\n",
        "  print(\"No hemos podido encontrar una expresión que obtenga el número\", value, \" :(\")"
      ],
      "metadata": {
        "colab": {
          "base_uri": "https://localhost:8080/"
        },
        "id": "SOQTGGDXmLoz",
        "outputId": "b755e029-5ca0-4831-fe85-0e62f605f29c"
      },
      "execution_count": null,
      "outputs": [
        {
          "output_type": "stream",
          "name": "stdout",
          "text": [
            "La expresión 1-2*3/6+4 obtiene como resultado en número 4  :)\n"
          ]
        }
      ]
    },
    {
      "cell_type": "markdown",
      "metadata": {
        "id": "tgrnsC2nkFa8"
      },
      "source": [
        "###Calcula la complejidad del algoritmo por fuerza bruta"
      ]
    },
    {
      "cell_type": "markdown",
      "source": [
        "Al tratarse de un problema con un espacio de posibilidades finito, exactamente 9! posibilidades, somos capaces de cuantificar el coste = **O(n!)**.\n",
        "\n",
        "La explicación de esto la hemos dado antes:\n",
        "Para cada valor elegido de nuestra expresión final debemos explorar n posibilidades menos una (la seleccionada en la actual iteración) y así sucesivamente hasta llegar al último valor de la expresión. A nivel matemático esto se expresa como n! permutaciones posibles."
      ],
      "metadata": {
        "id": "M-9GKI6yj1-r"
      }
    },
    {
      "cell_type": "markdown",
      "source": [
        "## ¿Qué valor máximo y mínimo se pueden obtener según las condiciones del problema?\n",
        "\n",
        "Dado que con fuerza bruta podemos explorar todo el espacio de soluciones utilizaremos este algoritmo para calcular el valor más alto y más bajo posible dadas las restricciones y poder responder a las preguntas planteadas:"
      ],
      "metadata": {
        "id": "fK9HJJipwX0Z"
      }
    },
    {
      "cell_type": "code",
      "source": [
        "import sys\n",
        "\n",
        "def max_min_fuerza_bruta(comb_num, comb_sig):\n",
        "  max = min = 0\n",
        "  exp_min = exp_max = ''\n",
        "\n",
        "  for current_nums in comb_num:\n",
        "    for current_sigs in comb_sig:\n",
        "\n",
        "      expression = combinar_numeros_signos(current_nums, current_sigs)\n",
        "      if eval(expression) < min:\n",
        "        min = eval(expression)\n",
        "        exp_min = expression\n",
        "      if eval(expression) > max:\n",
        "        max = eval(expression)\n",
        "        exp_max = expression\n",
        "\n",
        "  return min, max, exp_min, exp_max"
      ],
      "metadata": {
        "id": "U9gxBMHXr-xW"
      },
      "execution_count": null,
      "outputs": []
    },
    {
      "cell_type": "code",
      "source": [
        "min,max,exp_min,exp_max = max_min_fuerza_bruta(combinaciones_numeros, combinaciones_signos)\n",
        "print(\"Con\", exp_min, \"obtenemos el valor mínimo posbile que es\", min)\n",
        "print(\"Con\", exp_max, \"obtenemos el valor máximo posbile que es\", max)"
      ],
      "metadata": {
        "colab": {
          "base_uri": "https://localhost:8080/"
        },
        "id": "ioWaYZ0txkr1",
        "outputId": "9829c907-7e89-4ad4-870a-7dcd4f05a92b"
      },
      "execution_count": null,
      "outputs": [
        {
          "output_type": "stream",
          "name": "stdout",
          "text": [
            "Con 1+2/7-8*9 obtenemos el valor mínimo posbile que es -70.71428571428571\n",
            "Con 7-1/6+8*9 obtenemos el valor máximo posbile que es 78.83333333333333\n"
          ]
        }
      ]
    },
    {
      "cell_type": "markdown",
      "source": [
        "El valor **máximo** que se puede obtener es el **78.83** y el valor **mínimo** que se puede obener es el **-70.71**"
      ],
      "metadata": {
        "id": "WedtExx915z7"
      }
    },
    {
      "cell_type": "markdown",
      "source": [
        " ## ¿Es posible encontrar todos los valores enteros posibles entre dicho mínimo y máximo ?\n",
        "\n",
        "La mejor forma de responder a eso es encontrando un contraejemplo:"
      ],
      "metadata": {
        "id": "gq3vBIF8z-D-"
      }
    },
    {
      "cell_type": "code",
      "source": [
        "def fuerza_bruta_entero(comb_num, comb_sig, value):\n",
        "  for current_nums in comb_num:\n",
        "    for current_sigs in comb_sig:\n",
        "\n",
        "      expression = combinar_numeros_signos(current_nums, current_sigs)\n",
        "      if int(eval(expression)) == value: return expression\n",
        "      \n",
        "  return None"
      ],
      "metadata": {
        "id": "bd--rcnV0OiF"
      },
      "execution_count": null,
      "outputs": []
    },
    {
      "cell_type": "code",
      "source": [
        "count = 0\n",
        "for i in range(int(min),int(max)):\n",
        "  expression = fuerza_bruta_entero(combinaciones_numeros, combinaciones_signos, \n",
        "                                            i)\n",
        "  if expression is None:\n",
        "    print(\"Hemos encontrado el contraejemplo con el valor:\", i)\n",
        "    break\n",
        "  else:\n",
        "    count += 1\n",
        "else:\n",
        "  print(\"Podemos encontrar los\", count, \"valores entre el mínimo y el máximo!! :)\")"
      ],
      "metadata": {
        "colab": {
          "base_uri": "https://localhost:8080/"
        },
        "id": "sTr8NUZu1DA3",
        "outputId": "d5a8dfb8-5c09-43f6-bf65-8c0872335861"
      },
      "execution_count": null,
      "outputs": [
        {
          "output_type": "stream",
          "name": "stdout",
          "text": [
            "Podemos encontrar los 148 valores entre el mínimo y el máximo!! :)\n"
          ]
        }
      ]
    },
    {
      "cell_type": "markdown",
      "source": [
        "**SI** es posible encontrar todos los valores enteros entre el mínimo y el máximo"
      ],
      "metadata": {
        "id": "CbL79kTp1yid"
      }
    },
    {
      "cell_type": "markdown",
      "metadata": {
        "id": "txbrmLmskReM"
      },
      "source": [
        "## (*)Diseña un algoritmo que mejore la complejidad del algortimo por fuerza bruta. Argumenta porque crees que mejora el algoritmo por fuerza bruta"
      ]
    },
    {
      "cell_type": "markdown",
      "source": [
        ">Antes de echarles un vistazo a los apuntes plantee el problema como un problema de **búsqueda** donde mi primer pensamiento fue utilizar el algoritmo de **ramificación y poda** pero rápidamente llegue a lo conclusión de que quizás no es un buen planteamiento ya que la principal función de este algoritmo es **maximizar** o **minimizar** una función y este NO es un problema ni de maximización ni de minimización. Al igual que, aunque definamos una cota superior y una cota inferior no somos capaces de saber, a priori, si entre esas dos cotas vamos a tener todo espacio de posibilidades y por tanto no somos capaces de saber si la solución óptima se encuentra entre dichas cotas lo que implicaría tener que recorrer todo el árbol hasta las hojas y la complejidad del algoritmo sería **aproximadamente igual** a la de **fuerza bruta**.\n",
        "\n",
        ">Por el mismo motivo descarté utilizar **backtracking** ya que deberíamos recorrer el árbol hasta las hojas para conocer realmente si hemos o no encontrado la solución óptima.\n",
        "\n",
        ">Posibles solución: **Búsqueda aleatoria** o **algoritmos genéticos**. En este caso, por simplicidad, y sabiendo cuantificar el coste del algoritmo, utilizaremos como solución búsqueda aleatoria: En este caso, el algoritmo es muy sencillo y se basa en un único paso:\n",
        "\n",
        ">>1) Seleccionar una combinación de números y una combinación de signos aleatoriamente.\n",
        "\n"
      ],
      "metadata": {
        "id": "OOW8fsdZ2Y-k"
      }
    },
    {
      "cell_type": "code",
      "source": [
        "import random\n",
        "\n",
        "def busqueda_aleatoria(nums, sigs, value, iters):\n",
        "  for i in range(iters):\n",
        "    random_nums = random.choice(nums)\n",
        "    random_sigs = random.choice(sigs)\n",
        "\n",
        "    expression = combinar_numeros_signos(random_nums, random_sigs)\n",
        "    if eval(expression) == value: return expression\n",
        "      \n",
        "  return None"
      ],
      "metadata": {
        "id": "c1LlY-wJ6egx"
      },
      "execution_count": null,
      "outputs": []
    },
    {
      "cell_type": "code",
      "source": [
        "value = 4\n",
        "expression = busqueda_aleatoria(combinaciones_numeros, combinaciones_signos, value, 300)\n",
        "if expression is not None:\n",
        "  print(\"La expresión\", expression, \"obtiene como resultado en número\", value, \" :)\")\n",
        "else:\n",
        "  print(\"No hemos podido encontrar una expresión que obtenga el número\", value, \" :(\")"
      ],
      "metadata": {
        "colab": {
          "base_uri": "https://localhost:8080/"
        },
        "id": "L7ktUGv58GzZ",
        "outputId": "23a8d3a6-56b4-4005-8245-bcbab7bc7332"
      },
      "execution_count": null,
      "outputs": [
        {
          "output_type": "stream",
          "name": "stdout",
          "text": [
            "La expresión 1+3*8/2-9 obtiene como resultado en número 4  :)\n"
          ]
        }
      ]
    },
    {
      "cell_type": "markdown",
      "metadata": {
        "id": "eGDB4K6uk1iN"
      },
      "source": [
        "###(*)Calcula la complejidad del algoritmo "
      ]
    },
    {
      "cell_type": "markdown",
      "source": [
        "Como hemos anotado antes, la complejidad de un algoritmo de búsqueda aleatoria es fácilmente cuantificable ya que dependemos del número de iteraciones que realizamos. Si anotamos el número de operaciones como **n** la complejidad del problema es lineal ya que dependemos de un único bucle y por tanto matemáticamente  la complejidad es **O(n)** donde en el mejor de los casos (una única iteración) la complejidad sería de **O(1)** aunque la probabilidad de encontrar la solución sería muy muy baja."
      ],
      "metadata": {
        "id": "v5efZ-_JAVPi"
      }
    },
    {
      "cell_type": "markdown",
      "metadata": {
        "id": "3M6QjTsSkmYe"
      },
      "source": [
        "## Según el problema (y tenga sentido), diseña un juego de datos de entrada aleatorios"
      ]
    },
    {
      "cell_type": "markdown",
      "source": [
        "Si nos ceñimos a las **restricciones** dadas por el problema podemos variar de entrada únicamente  el **valor** que queremos buscar y el número de **iteraciones**. Una posible implementación es la siguiente:"
      ],
      "metadata": {
        "id": "Qzb8ND51PvqK"
      }
    },
    {
      "cell_type": "code",
      "source": [
        "dato_aleatorio = random.randint(int(min),int(max))\n",
        "iteraciones_aleatorias = random.randint(1,1000)\n",
        "\n",
        "print(\"Valor aleatorio: \", dato_aleatorio)\n",
        "print(\"Iteraciones aleatorias: \", iteraciones_aleatorias)"
      ],
      "metadata": {
        "colab": {
          "base_uri": "https://localhost:8080/"
        },
        "id": "nsar8KBZzoZF",
        "outputId": "5433a8ea-e18e-43bc-efbe-12be190c7cfc"
      },
      "execution_count": null,
      "outputs": [
        {
          "output_type": "stream",
          "name": "stdout",
          "text": [
            "Valor aleatorio:  41\n",
            "Iteraciones aleatorias:  388\n"
          ]
        }
      ]
    },
    {
      "cell_type": "markdown",
      "source": [
        "Por otro lado, si **NO** nos ceñimos a las **restricciones** dadas por el problema podemos variar de entrada el **valor**, las **iteraciones**, la **lista de números posibles** e incluso la **lista de signos**. ¿Cómo? Podríamos tener una lista **n** de números aleatorios y un lista **m** de signos aleatorios. Una posible implementación sería la siguiente:"
      ],
      "metadata": {
        "id": "8IxjjxP91lGy"
      }
    },
    {
      "cell_type": "code",
      "source": [
        "total_posibles_signos = ['.', '/', '-', '+', '*']\n",
        "singos_aleatorios = random.sample(total_posibles_signos,\n",
        "                                  random.randint(3, len(total_posibles_signos)-1))\n",
        "\n",
        "total_posibles_numeros = ['1','2','3','4','5','6','7','8','9','10']\n",
        "numeros_aleatorios = random.sample(total_posibles_numeros,\n",
        "                                  random.randint(len(total_posibles_signos)+1, \n",
        "                                                 len(total_posibles_numeros)))\n",
        "comb_signos_aleatorios = list(permutations(singos_aleatorios))\n",
        "comb_numeros_aleatorios = list(permutations(numeros_aleatorios, len(singos_aleatorios)+1))\n",
        "\n",
        "min_al,max_al,_,_ = max_min_fuerza_bruta(comb_numeros_aleatorios, \n",
        "                                       comb_signos_aleatorios)\n",
        "dato_aleatorio = random.randint(int(min_al),int(max_al))\n",
        "iteraciones_aleatorias = random.randint(100,10000)\n",
        "\n",
        "print(\"Valor aleatorio: \", dato_aleatorio)\n",
        "print(\"Iteraciones aleatorias: \", iteraciones_aleatorias)\n",
        "print(\"Lista de signos: \", singos_aleatorios)\n",
        "print(\"Lista de números: \", numeros_aleatorios)"
      ],
      "metadata": {
        "colab": {
          "base_uri": "https://localhost:8080/"
        },
        "id": "gBuHO5J42o1x",
        "outputId": "a8411f8f-9ee7-4cbb-f939-41c6c5ac1280"
      },
      "execution_count": null,
      "outputs": [
        {
          "output_type": "stream",
          "name": "stdout",
          "text": [
            "Valor aleatorio:  -10\n",
            "Iteraciones aleatorias:  5530\n",
            "Lista de signos:  ['-', '*', '/', '.']\n",
            "Lista de números:  ['6', '10', '8', '7', '4', '5', '1', '2', '9']\n"
          ]
        }
      ]
    },
    {
      "cell_type": "markdown",
      "source": [
        "Si nos fijamos, nuestros nuevos conjuntos de datos añaden una nueva posibilidad en cuento a los signos, el \".\" que nos permite introducir decimales en la ecuación, y una nueva posibilidad en los números, el 10. Se generan aleatoriamente las listas de signos y números y se define el máximo y el mínimo posible para poder escoger (aleatoriamente) un número entre ellos.\n",
        "**NOTA:** A diferencia de la ecuación con restricciones, con el nuevo conjunto de datos generados aleatoriamente no podemos garantizar que para todos los números comprendidos entre el máximo y el mínimo haya solución."
      ],
      "metadata": {
        "id": "eSfNoaypAbZ8"
      }
    },
    {
      "cell_type": "markdown",
      "metadata": {
        "id": "zy5ZROmjlGo1"
      },
      "source": [
        "## Aplica el algoritmo al juego de datos generado"
      ]
    },
    {
      "cell_type": "markdown",
      "source": [
        "### **CON restricciones**:"
      ],
      "metadata": {
        "id": "0YfvB56_7TnJ"
      }
    },
    {
      "cell_type": "code",
      "source": [
        "expression = busqueda_aleatoria(combinaciones_numeros, combinaciones_signos, \n",
        "                                dato_aleatorio, iteraciones_aleatorias)\n",
        "if expression is not None:\n",
        "  print(\"La expresión\", expression, \"obtiene como resultado\", dato_aleatorio, \" :)\")\n",
        "else:\n",
        "  print(\"No hemos podido encontrar una expresión que obtenga\", dato_aleatorio, \" :(\")"
      ],
      "metadata": {
        "colab": {
          "base_uri": "https://localhost:8080/"
        },
        "id": "KOewd0ZH7tka",
        "outputId": "3d36bddc-1be6-41c3-9074-fdffa9b177c5"
      },
      "execution_count": null,
      "outputs": [
        {
          "output_type": "stream",
          "name": "stdout",
          "text": [
            "La expresión 4/2+9-3*7 obtiene como resultado -10  :)\n"
          ]
        }
      ]
    },
    {
      "cell_type": "markdown",
      "source": [
        "### **SIN restricciones**:"
      ],
      "metadata": {
        "id": "egeeZDek7fsr"
      }
    },
    {
      "cell_type": "code",
      "metadata": {
        "id": "Jkx8GeiYlUz1",
        "colab": {
          "base_uri": "https://localhost:8080/"
        },
        "outputId": "b848e37c-8842-4b19-d9bc-05a35778f8f6"
      },
      "source": [
        "expression = busqueda_aleatoria(comb_numeros_aleatorios, comb_signos_aleatorios, \n",
        "                                dato_aleatorio, iteraciones_aleatorias)\n",
        "if expression is not None:\n",
        "  print(\"La expresión\", expression, \"obtiene como resultado\", dato_aleatorio, \" :)\")\n",
        "else:\n",
        "  print(\"No hemos podido encontrar una expresión que obtenga\", dato_aleatorio, \" :(\")"
      ],
      "execution_count": null,
      "outputs": [
        {
          "output_type": "stream",
          "name": "stdout",
          "text": [
            "La expresión 1*4/8-10.5 obtiene como resultado -10  :)\n"
          ]
        }
      ]
    },
    {
      "cell_type": "markdown",
      "metadata": {
        "id": "eTFWUJQrtGcv"
      },
      "source": [
        "## Enumera las referencias que has utilizado(si ha sido necesario) para llevar a cabo el trabajo"
      ]
    },
    {
      "cell_type": "markdown",
      "source": [
        "Toda la implementación del código se ha realizado a partir de lo impartido en clases y a partir de los apuntes de la asignatura."
      ],
      "metadata": {
        "id": "_F8EcFisE_Ly"
      }
    },
    {
      "cell_type": "markdown",
      "metadata": {
        "id": "kAkDPUyRtYyH"
      },
      "source": [
        "## Describe brevemente las lineas de como crees que es posible avanzar en el estudio del problema. Ten en cuenta incluso posibles variaciones del problema y/o variaciones al alza del tamaño"
      ]
    },
    {
      "cell_type": "markdown",
      "source": [
        "Si bien es cierto que el motivo principal de elegir una solución con búsqueda aleatoria ha sido por la simplicidad del problema. Otra solución más elaborada, a partir de una búsqueda aleatoria podría ser utilizar **algoritmos genéticos** sabiendo lo cerca o lejos que esta nuestra solución parcial de la solución óptima. Para ello podríamos jugar con el valor de los números y la magnitud de los signos. Para ello podríamos definir las siguientes reglas:\n",
        "\n",
        "> **1) Mutación de aproximación:** Si el individuo actual está relativamente a mucha distancia del óptimo el cambio que más positivamente puede afectar es mutar con mayor probabilidad el signo '*' o '/' a las últimas posiciones lo que provocaría cambios más bruscos en el individuo. En caso contrario, si el individuo está próximo a la solución, un movimiento acertado sería mutar los signos '+' y '-'. Idénticamente podríamos aplicar esta metodología a los números.\n",
        "\n",
        "> **2)Agregación de refinamiento:** Finalmente, si no se ha llegado a la solución óptima, podríamos intercambiar un número de la ecuación por otro muy próximo (teniendo en cuenta la restricción de que no puede ser una que ya se encuentra dentro de la expresión).\n",
        "\n",
        "La idea principal de avanzar por soluciones heurísticas se centra en el coste del algoritmo ya que para cualquier tamaño de números y signos seguirá siendo un coste lineal de **O(n)**."
      ],
      "metadata": {
        "id": "zBXVT-pCBv6z"
      }
    },
    {
      "cell_type": "code",
      "source": [
        ""
      ],
      "metadata": {
        "id": "tYB_EyemGUva"
      },
      "execution_count": null,
      "outputs": []
    }
  ]
}